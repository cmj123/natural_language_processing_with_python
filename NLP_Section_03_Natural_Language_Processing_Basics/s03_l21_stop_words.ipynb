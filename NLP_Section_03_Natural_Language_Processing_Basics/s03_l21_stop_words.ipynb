{
 "cells": [
  {
   "cell_type": "code",
   "execution_count": 1,
   "metadata": {},
   "outputs": [],
   "source": [
    "import spacy"
   ]
  },
  {
   "cell_type": "code",
   "execution_count": 2,
   "metadata": {},
   "outputs": [],
   "source": [
    "nlp = spacy.load('en_core_web_sm')"
   ]
  },
  {
   "cell_type": "code",
   "execution_count": 3,
   "metadata": {},
   "outputs": [
    {
     "name": "stdout",
     "output_type": "stream",
     "text": [
      "{'move', 'why', \"'ve\", 'either', 'nine', 'after', 'three', 'on', 'third', 'give', 'into', 'hers', 'a', 'therefore', 'across', 'somewhere', 'up', 'hereupon', \"'d\", '’d', 'although', 'something', 'whom', 'you', 'eight', 'any', 'he', 'yet', 'keep', 'former', 'in', 'always', 'thereafter', 'off', 'becomes', 'she', 'become', 'fifty', 'no', 'should', 'too', \"'m\", 'still', 'really', 'where', 'whither', '‘re', 'ours', 'his', 'anywhere', 'these', '’ll', 'front', 'neither', 'hereby', 'elsewhere', 'never', 'before', 'if', 'hereafter', 'further', 'nevertheless', 'its', 'however', 'anyhow', 'yourself', 'had', 'over', 'least', 'would', 'anyone', 'that', '‘ve', 'them', 'might', 'whenever', 'along', 'quite', 'anyway', 'nor', '’m', 'an', 'beforehand', 'whose', 'been', 'all', 'their', 'own', 'every', 'namely', 'down', 'thence', 'afterwards', 'did', 'very', 'among', 'my', 'amount', 'formerly', 'behind', 'full', 'both', 'thus', 'could', 'then', 'such', 'which', 'herself', 'whoever', '‘s', 'various', 'whereas', 'towards', 'has', 'anything', 'me', 'under', \"'re\", '‘ll', 'well', 'serious', 'to', 'was', 'us', 'two', 'during', 'seemed', 'or', 'wherever', '’ve', 'with', 'beyond', 'enough', 'besides', 'ourselves', 'regarding', 'because', 'everyone', 'nowhere', 'without', 'ever', 'n‘t', 'your', 'take', '’re', 'twenty', 'everywhere', 'unless', 'whether', 'none', 'now', 'while', 'much', 'together', 'of', 'noone', 'else', 'who', 'due', 'bottom', 'using', 'call', 'forty', \"'ll\", 'n’t', 'perhaps', 'him', 'first', 'hundred', 'seem', 'am', 'thereupon', 'whereby', 'seems', 'nothing', 'show', 'about', 'around', 'have', 'against', 'himself', 'do', 'above', 'out', 'therein', 'indeed', 'other', 'nobody', 'does', 'name', 'became', 'alone', 'twelve', 'everything', 'were', 'until', 'herein', 'thru', 'through', 'than', 'also', 're', 'once', 'via', 'can', 'how', 'go', 'by', 'four', 'empty', '‘m', 'beside', 'sometime', 'whereafter', 'be', 'even', 'whereupon', 'here', 'few', 'when', 'otherwise', 'six', 'we', 'for', 'from', 'myself', 'made', 'except', '’s', '‘d', \"'s\", 'wherein', 'at', \"n't\", 'each', 'they', 'moreover', 'seeming', 'five', 'done', 'fifteen', 'must', 'and', 'within', 'sixty', 'yours', 'doing', 'onto', 'latter', 'below', 'those', 'get', 'put', 'may', 'being', 'will', 'throughout', 'back', 'not', 'it', 'as', 'many', 'make', 'whence', 'yourselves', 'since', 'what', 'amongst', 'next', 'though', 'someone', 'but', 'almost', 'used', 'latterly', 'already', 'thereby', 'per', 'our', 'others', 'becoming', 'i', 'there', 'several', 'her', 'upon', 'are', 'itself', 'top', 'ca', 'ten', 'mostly', 'often', 'whatever', 'sometimes', 'less', 'same', 'see', 'please', 'themselves', 'only', 'again', 'most', 'another', 'cannot', 'one', 'so', 'just', 'meanwhile', 'last', 'whole', 'toward', 'mine', 'rather', 'some', 'is', 'hence', 'this', 'side', 'more', 'say', 'somehow', 'between', 'eleven', 'the', 'part'}\n"
     ]
    }
   ],
   "source": [
    "print(nlp.Defaults.stop_words)"
   ]
  },
  {
   "cell_type": "code",
   "execution_count": 4,
   "metadata": {},
   "outputs": [
    {
     "data": {
      "text/plain": [
       "326"
      ]
     },
     "execution_count": 4,
     "metadata": {},
     "output_type": "execute_result"
    }
   ],
   "source": [
    "len(nlp.Defaults.stop_words)"
   ]
  },
  {
   "cell_type": "code",
   "execution_count": 5,
   "metadata": {},
   "outputs": [
    {
     "data": {
      "text/plain": [
       "True"
      ]
     },
     "execution_count": 5,
     "metadata": {},
     "output_type": "execute_result"
    }
   ],
   "source": [
    "nlp.vocab['is'].is_stop"
   ]
  },
  {
   "cell_type": "code",
   "execution_count": 7,
   "metadata": {},
   "outputs": [
    {
     "data": {
      "text/plain": [
       "False"
      ]
     },
     "execution_count": 7,
     "metadata": {},
     "output_type": "execute_result"
    }
   ],
   "source": [
    "nlp.vocab['Esuabom'].is_stop"
   ]
  },
  {
   "cell_type": "code",
   "execution_count": 8,
   "metadata": {},
   "outputs": [],
   "source": [
    "nlp.Defaults.stop_words.add('btw')"
   ]
  },
  {
   "cell_type": "code",
   "execution_count": 10,
   "metadata": {},
   "outputs": [
    {
     "data": {
      "text/plain": [
       "True"
      ]
     },
     "execution_count": 10,
     "metadata": {},
     "output_type": "execute_result"
    }
   ],
   "source": [
    "nlp.vocab['btw'].is_stop"
   ]
  },
  {
   "cell_type": "code",
   "execution_count": 11,
   "metadata": {},
   "outputs": [
    {
     "data": {
      "text/plain": [
       "481"
      ]
     },
     "execution_count": 11,
     "metadata": {},
     "output_type": "execute_result"
    }
   ],
   "source": [
    "len(nlp.vocab)"
   ]
  },
  {
   "cell_type": "code",
   "execution_count": 12,
   "metadata": {},
   "outputs": [
    {
     "data": {
      "text/plain": [
       "327"
      ]
     },
     "execution_count": 12,
     "metadata": {},
     "output_type": "execute_result"
    }
   ],
   "source": [
    "len(nlp.Defaults.stop_words)"
   ]
  },
  {
   "cell_type": "code",
   "execution_count": 13,
   "metadata": {},
   "outputs": [
    {
     "data": {
      "text/plain": [
       "True"
      ]
     },
     "execution_count": 13,
     "metadata": {},
     "output_type": "execute_result"
    }
   ],
   "source": [
    "nlp.vocab['beyond'].is_stop"
   ]
  },
  {
   "cell_type": "code",
   "execution_count": 14,
   "metadata": {},
   "outputs": [],
   "source": [
    "nlp.Defaults.stop_words.remove('beyond')"
   ]
  },
  {
   "cell_type": "code",
   "execution_count": 15,
   "metadata": {},
   "outputs": [
    {
     "data": {
      "text/plain": [
       "True"
      ]
     },
     "execution_count": 15,
     "metadata": {},
     "output_type": "execute_result"
    }
   ],
   "source": [
    "nlp.vocab['beyond'].is_stop"
   ]
  },
  {
   "cell_type": "code",
   "execution_count": null,
   "metadata": {},
   "outputs": [],
   "source": []
  }
 ],
 "metadata": {
  "kernelspec": {
   "display_name": "Python 3",
   "language": "python",
   "name": "python3"
  },
  "language_info": {
   "codemirror_mode": {
    "name": "ipython",
    "version": 3
   },
   "file_extension": ".py",
   "mimetype": "text/x-python",
   "name": "python",
   "nbconvert_exporter": "python",
   "pygments_lexer": "ipython3",
   "version": "3.7.3"
  }
 },
 "nbformat": 4,
 "nbformat_minor": 2
}
